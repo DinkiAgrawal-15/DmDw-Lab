{
  "nbformat": 4,
  "nbformat_minor": 0,
  "metadata": {
    "colab": {
      "name": "dmdw assn 5.ipynb",
      "provenance": [],
      "authorship_tag": "ABX9TyMLsh8eOcwqDm4MKUNSPkZg",
      "include_colab_link": true
    },
    "kernelspec": {
      "name": "python3",
      "display_name": "Python 3"
    }
  },
  "cells": [
    {
      "cell_type": "markdown",
      "metadata": {
        "id": "view-in-github",
        "colab_type": "text"
      },
      "source": [
        "<a href=\"https://colab.research.google.com/github/shivanandapatnaik/DmDw-Lab/blob/main/dmdw_assn_5.ipynb\" target=\"_parent\"><img src=\"https://colab.research.google.com/assets/colab-badge.svg\" alt=\"Open In Colab\"/></a>"
      ]
    },
    {
      "cell_type": "code",
      "metadata": {
        "colab": {
          "base_uri": "https://localhost:8080/",
          "height": 269
        },
        "id": "Fmh2IrtzFi4r",
        "outputId": "be58b4f8-c224-499c-f5da-ec462d0d718e"
      },
      "source": [
        "import pandas as pd\n",
        "import seaborn as sn\n",
        "import matplotlib.pyplot as plt\n",
        "\n",
        "data = {'A': [45,37,42,35,39],\n",
        "        'B': [38,31,26,28,33],\n",
        "        'C': [10,15,17,21,12]\n",
        "        }\n",
        "\n",
        "df = pd.DataFrame(data,columns=['A','B','C'])\n",
        "\n",
        "corrMatrix = df.corr()\n",
        "sn.heatmap(corrMatrix, annot=True)\n",
        "plt.show()"
      ],
      "execution_count": 1,
      "outputs": [
        {
          "output_type": "display_data",
          "data": {
            "image/png": "[encoded data removed]",
            "text/plain": [
              "<Figure size 432x288 with 2 Axes>"
            ]
          },
          "metadata": {
            "tags": [],
            "needs_background": "light"
          }
        }
      ]
    },
    {
      "cell_type": "code",
      "metadata": {
        "colab": {
          "base_uri": "https://localhost:8080/",
          "height": 265
        },
        "id": "-TeDEWyVFxMf",
        "outputId": "eecd4f16-de15-471b-a90a-d33f0d908f0d"
      },
      "source": [
        "import pandas as pd\n",
        "import seaborn as sn\n",
        "import matplotlib.pyplot as plt\n",
        "\n",
        "data = {'A': [45,37,42,35,39],\n",
        "        'B': [38,31,26,28,33],\n",
        "        'C': [10,15,17,21,12]\n",
        "        }\n",
        "\n",
        "df = pd.DataFrame(data,columns=['A','B','C'])\n",
        "\n",
        "covMatrix = df.cov()\n",
        "sn.heatmap(covMatrix, annot=True)\n",
        "plt.show()"
      ],
      "execution_count": 2,
      "outputs": [
        {
          "output_type": "display_data",
          "data": {
            "image/png": "[encoded data removed]",
            "text/plain": [
              "<Figure size 432x288 with 2 Axes>"
            ]
          },
          "metadata": {
            "tags": [],
            "needs_background": "light"
          }
        }
      ]
    },
    {
      "cell_type": "code",
      "metadata": {
        "colab": {
          "base_uri": "https://localhost:8080/"
        },
        "id": "M3JgifUFF6QJ",
        "outputId": "11eae99e-ced5-497b-8a10-fe636a08860a"
      },
      "source": [
        "import math\n",
        "Age = [23,23,27,27,39,41,47,49,50]\n",
        "fat = [9.5,26.5,7.8,17.8,31.4,25.9,27.4,27.2,31.2]\n",
        "mean_age = 0\n",
        "mean_fat = 0\n",
        "for i in range(9):\n",
        "    mean_age = mean_age + Age[i]\n",
        "    mean_fat = mean_fat + fat[i]\n",
        "mean_age = mean_age/9\n",
        "mean_fat = mean_fat/9\n",
        "\n",
        "Age1 = []\n",
        "fat1 = []\n",
        "for i in range(9):\n",
        "    Age1.append(Age[i]-mean_age)\n",
        "    fat1.append(fat[i]-mean_fat)\n",
        "Q1=0\n",
        "Q2=0\n",
        "Q=0\n",
        "for i in range(9):\n",
        "    Q1 = Q1 + Age1[i]*Age1[i]\n",
        "    Q2 = Q2 + fat1[i]*fat1[i]\n",
        "    Q = Q + Age1[i]*fat1[i]\n",
        "Q1 = math.sqrt(Q1)\n",
        "Q2 = math.sqrt(Q2)\n",
        "R = Q/(Q1*Q2)\n",
        "print(\"Corelation Coefficient is \",R)"
      ],
      "execution_count": 3,
      "outputs": [
        {
          "output_type": "stream",
          "text": [
            "Corelation Coefficient is  0.7102957400082588\n"
          ],
          "name": "stdout"
        }
      ]
    },
    {
      "cell_type": "code",
      "metadata": {
        "colab": {
          "base_uri": "https://localhost:8080/",
          "height": 195
        },
        "id": "ovt1M7XyF-wM",
        "outputId": "11b84cae-7793-44f5-d08f-e2dbbf24f2b7"
      },
      "source": [
        "import pandas as pd\n",
        "\n",
        "df = pd.DataFrame([[8], [10], [15], [20], [40]],\n",
        "                       columns=['R1'])\n",
        "\n",
        "df"
      ],
      "execution_count": 4,
      "outputs": [
        {
          "output_type": "execute_result",
          "data": {
            "text/html": [
              "<div>\n",
              "<style scoped>\n",
              "    .dataframe tbody tr th:only-of-type {\n",
              "        vertical-align: middle;\n",
              "    }\n",
              "\n",
              "    .dataframe tbody tr th {\n",
              "        vertical-align: top;\n",
              "    }\n",
              "\n",
              "    .dataframe thead th {\n",
              "        text-align: right;\n",
              "    }\n",
              "</style>\n",
              "<table border=\"1\" class=\"dataframe\">\n",
              "  <thead>\n",
              "    <tr style=\"text-align: right;\">\n",
              "      <th></th>\n",
              "      <th>R1</th>\n",
              "    </tr>\n",
              "  </thead>\n",
              "  <tbody>\n",
              "    <tr>\n",
              "      <th>0</th>\n",
              "      <td>8</td>\n",
              "    </tr>\n",
              "    <tr>\n",
              "      <th>1</th>\n",
              "      <td>10</td>\n",
              "    </tr>\n",
              "    <tr>\n",
              "      <th>2</th>\n",
              "      <td>15</td>\n",
              "    </tr>\n",
              "    <tr>\n",
              "      <th>3</th>\n",
              "      <td>20</td>\n",
              "    </tr>\n",
              "    <tr>\n",
              "      <th>4</th>\n",
              "      <td>40</td>\n",
              "    </tr>\n",
              "  </tbody>\n",
              "</table>\n",
              "</div>"
            ],
            "text/plain": [
              "   R1\n",
              "0   8\n",
              "1  10\n",
              "2  15\n",
              "3  20\n",
              "4  40"
            ]
          },
          "metadata": {
            "tags": []
          },
          "execution_count": 4
        }
      ]
    },
    {
      "cell_type": "code",
      "metadata": {
        "colab": {
          "base_uri": "https://localhost:8080/",
          "height": 195
        },
        "id": "x8Y3VVPPGCNx",
        "outputId": "00f0110d-f72b-4f29-cdc0-0a8f0d4f0163"
      },
      "source": [
        "def min_max_scaling(df):\n",
        "    df_norm = df.copy()\n",
        "    for column in df_norm.columns:\n",
        "        df_norm[column] = (df_norm[column] - df_norm[column].min()) / (df_norm[column].max() - df_norm[column].min())\n",
        "        \n",
        "    return df_norm\n",
        "    \n",
        "df_value = min_max_scaling(df)\n",
        "\n",
        "df_value"
      ],
      "execution_count": 5,
      "outputs": [
        {
          "output_type": "execute_result",
          "data": {
            "text/html": [
              "<div>\n",
              "<style scoped>\n",
              "    .dataframe tbody tr th:only-of-type {\n",
              "        vertical-align: middle;\n",
              "    }\n",
              "\n",
              "    .dataframe tbody tr th {\n",
              "        vertical-align: top;\n",
              "    }\n",
              "\n",
              "    .dataframe thead th {\n",
              "        text-align: right;\n",
              "    }\n",
              "</style>\n",
              "<table border=\"1\" class=\"dataframe\">\n",
              "  <thead>\n",
              "    <tr style=\"text-align: right;\">\n",
              "      <th></th>\n",
              "      <th>R1</th>\n",
              "    </tr>\n",
              "  </thead>\n",
              "  <tbody>\n",
              "    <tr>\n",
              "      <th>0</th>\n",
              "      <td>0.00000</td>\n",
              "    </tr>\n",
              "    <tr>\n",
              "      <th>1</th>\n",
              "      <td>0.06250</td>\n",
              "    </tr>\n",
              "    <tr>\n",
              "      <th>2</th>\n",
              "      <td>0.21875</td>\n",
              "    </tr>\n",
              "    <tr>\n",
              "      <th>3</th>\n",
              "      <td>0.37500</td>\n",
              "    </tr>\n",
              "    <tr>\n",
              "      <th>4</th>\n",
              "      <td>1.00000</td>\n",
              "    </tr>\n",
              "  </tbody>\n",
              "</table>\n",
              "</div>"
            ],
            "text/plain": [
              "        R1\n",
              "0  0.00000\n",
              "1  0.06250\n",
              "2  0.21875\n",
              "3  0.37500\n",
              "4  1.00000"
            ]
          },
          "metadata": {
            "tags": []
          },
          "execution_count": 5
        }
      ]
    },
    {
      "cell_type": "code",
      "metadata": {
        "colab": {
          "base_uri": "https://localhost:8080/",
          "height": 195
        },
        "id": "BPqfHWfpGH_P",
        "outputId": "30862a20-3c93-4898-9572-6a58c885fde0"
      },
      "source": [
        "def z_score(df):\n",
        "    df_std = df.copy()\n",
        "    for column in df_std.columns:\n",
        "        df_std[column] = (df_std[column] - df_std[column].mean()) / df_std[column].std()\n",
        "        \n",
        "    return df_std\n",
        "    \n",
        "df_value = z_score(df)\n",
        "\n",
        "df_value"
      ],
      "execution_count": 6,
      "outputs": [
        {
          "output_type": "execute_result",
          "data": {
            "text/html": [
              "<div>\n",
              "<style scoped>\n",
              "    .dataframe tbody tr th:only-of-type {\n",
              "        vertical-align: middle;\n",
              "    }\n",
              "\n",
              "    .dataframe tbody tr th {\n",
              "        vertical-align: top;\n",
              "    }\n",
              "\n",
              "    .dataframe thead th {\n",
              "        text-align: right;\n",
              "    }\n",
              "</style>\n",
              "<table border=\"1\" class=\"dataframe\">\n",
              "  <thead>\n",
              "    <tr style=\"text-align: right;\">\n",
              "      <th></th>\n",
              "      <th>R1</th>\n",
              "    </tr>\n",
              "  </thead>\n",
              "  <tbody>\n",
              "    <tr>\n",
              "      <th>0</th>\n",
              "      <td>-0.825709</td>\n",
              "    </tr>\n",
              "    <tr>\n",
              "      <th>1</th>\n",
              "      <td>-0.669915</td>\n",
              "    </tr>\n",
              "    <tr>\n",
              "      <th>2</th>\n",
              "      <td>-0.280430</td>\n",
              "    </tr>\n",
              "    <tr>\n",
              "      <th>3</th>\n",
              "      <td>0.109056</td>\n",
              "    </tr>\n",
              "    <tr>\n",
              "      <th>4</th>\n",
              "      <td>1.666998</td>\n",
              "    </tr>\n",
              "  </tbody>\n",
              "</table>\n",
              "</div>"
            ],
            "text/plain": [
              "         R1\n",
              "0 -0.825709\n",
              "1 -0.669915\n",
              "2 -0.280430\n",
              "3  0.109056\n",
              "4  1.666998"
            ]
          },
          "metadata": {
            "tags": []
          },
          "execution_count": 6
        }
      ]
    }
  ]
}